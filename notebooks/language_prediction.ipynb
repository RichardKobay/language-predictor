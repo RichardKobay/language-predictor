{
 "cells": [
  {
   "cell_type": "markdown",
   "metadata": {},
   "source": [
    "# Language Prediction"
   ]
  },
  {
   "cell_type": "markdown",
   "metadata": {},
   "source": [
    "First, we need to define the `text2paragraphs` method, this will extract all the paragraphs of a text"
   ]
  },
  {
   "cell_type": "code",
   "execution_count": 31,
   "metadata": {},
   "outputs": [],
   "source": [
    "def text2paragraphs(filename, min_size=1):\n",
    "    \"\"\" A text contained in the file 'filename' will be read \n",
    "    and chopped into paragraphs.\n",
    "    Paragraphs with a string length less than min_size will be ignored.\n",
    "    A list of paragraph strings will be returned\"\"\"\n",
    "    \n",
    "    txt = open(filename, encoding='utf-8').read()\n",
    "    paragraphs = [para for para in txt.split(\"\\n\\n\") if len(para) > min_size]\n",
    "    return paragraphs"
   ]
  },
  {
   "cell_type": "markdown",
   "metadata": {},
   "source": [
    "Now we need to save the labels"
   ]
  },
  {
   "cell_type": "code",
   "execution_count": 32,
   "metadata": {},
   "outputs": [],
   "source": [
    "import os\n",
    "\n",
    "path = '../data/processed/books/'\n",
    "\n",
    "files = os.listdir(path)\n",
    "labels = {fname[:2] for fname in files if fname.endswith(\".txt\")}\n",
    "labels = sorted(list(labels))"
   ]
  },
  {
   "cell_type": "markdown",
   "metadata": {},
   "source": [
    "We have eight labels, one per language"
   ]
  },
  {
   "cell_type": "code",
   "execution_count": 33,
   "metadata": {},
   "outputs": [
    {
     "data": {
      "text/plain": [
       "['de', 'dk', 'en', 'es', 'fr', 'it', 'nl', 'se']"
      ]
     },
     "execution_count": 33,
     "metadata": {},
     "output_type": "execute_result"
    }
   ],
   "source": [
    "labels"
   ]
  },
  {
   "cell_type": "markdown",
   "metadata": {},
   "source": [
    "We can list the files too"
   ]
  },
  {
   "cell_type": "code",
   "execution_count": 34,
   "metadata": {},
   "outputs": [
    {
     "data": {
      "text/plain": [
       "['de-book-00.txt',\n",
       " 'de-book-01.txt',\n",
       " 'de-book-02.txt',\n",
       " 'de-book-03.txt',\n",
       " 'de-book-04.txt',\n",
       " 'de-book-05.txt',\n",
       " 'de-book-06.txt',\n",
       " 'de-book-07.txt',\n",
       " 'de-book-08.txt',\n",
       " 'de-book-09.txt',\n",
       " 'de-book-10.txt',\n",
       " 'de-book-11.txt',\n",
       " 'de-book-12.txt',\n",
       " 'de-book-13.txt',\n",
       " 'de-book-14.txt',\n",
       " 'de-book-15.txt',\n",
       " 'de-book-16.txt',\n",
       " 'de-book-17.txt',\n",
       " 'de-book-18.txt',\n",
       " 'de-book-19.txt',\n",
       " 'de-book-20.txt',\n",
       " 'de-book-21.txt',\n",
       " 'de-book-22.txt',\n",
       " 'de-book-23.txt',\n",
       " 'de-book-24.txt',\n",
       " 'de-book-25.txt',\n",
       " 'de-book-26.txt',\n",
       " 'de-book-27.txt',\n",
       " 'de-book-28.txt',\n",
       " 'de-book-29.txt',\n",
       " 'dk-book-00.txt',\n",
       " 'dk-book-01.txt',\n",
       " 'dk-book-02.txt',\n",
       " 'dk-book-03.txt',\n",
       " 'dk-book-04.txt',\n",
       " 'dk-book-05.txt',\n",
       " 'dk-book-06.txt',\n",
       " 'dk-book-07.txt',\n",
       " 'dk-book-08.txt',\n",
       " 'dk-book-09.txt',\n",
       " 'dk-book-10.txt',\n",
       " 'dk-book-11.txt',\n",
       " 'dk-book-12.txt',\n",
       " 'dk-book-13.txt',\n",
       " 'dk-book-14.txt',\n",
       " 'dk-book-15.txt',\n",
       " 'dk-book-16.txt',\n",
       " 'dk-book-17.txt',\n",
       " 'dk-book-18.txt',\n",
       " 'dk-book-19.txt',\n",
       " 'dk-book-20.txt',\n",
       " 'dk-book-21.txt',\n",
       " 'dk-book-22.txt',\n",
       " 'dk-book-23.txt',\n",
       " 'dk-book-24.txt',\n",
       " 'dk-book-25.txt',\n",
       " 'dk-book-26.txt',\n",
       " 'dk-book-27.txt',\n",
       " 'dk-book-28.txt',\n",
       " 'dk-book-29.txt',\n",
       " 'en-book-00.txt',\n",
       " 'en-book-01.txt',\n",
       " 'en-book-02.txt',\n",
       " 'en-book-03.txt',\n",
       " 'en-book-04.txt',\n",
       " 'en-book-05.txt',\n",
       " 'en-book-06.txt',\n",
       " 'en-book-07.txt',\n",
       " 'en-book-08.txt',\n",
       " 'en-book-09.txt',\n",
       " 'en-book-10.txt',\n",
       " 'en-book-11.txt',\n",
       " 'en-book-12.txt',\n",
       " 'en-book-13.txt',\n",
       " 'en-book-14.txt',\n",
       " 'en-book-15.txt',\n",
       " 'en-book-16.txt',\n",
       " 'en-book-17.txt',\n",
       " 'en-book-18.txt',\n",
       " 'en-book-19.txt',\n",
       " 'en-book-20.txt',\n",
       " 'en-book-21.txt',\n",
       " 'en-book-22.txt',\n",
       " 'en-book-23.txt',\n",
       " 'en-book-24.txt',\n",
       " 'en-book-25.txt',\n",
       " 'en-book-26.txt',\n",
       " 'en-book-27.txt',\n",
       " 'en-book-28.txt',\n",
       " 'en-book-29.txt',\n",
       " 'en-book-30.txt',\n",
       " 'es-book-00.txt',\n",
       " 'es-book-01.txt',\n",
       " 'es-book-02.txt',\n",
       " 'es-book-03.txt',\n",
       " 'es-book-04.txt',\n",
       " 'es-book-05.txt',\n",
       " 'es-book-06.txt',\n",
       " 'es-book-07.txt',\n",
       " 'es-book-08.txt',\n",
       " 'es-book-09.txt',\n",
       " 'es-book-10.txt',\n",
       " 'es-book-11.txt',\n",
       " 'es-book-12.txt',\n",
       " 'es-book-13.txt',\n",
       " 'es-book-14.txt',\n",
       " 'es-book-15.txt',\n",
       " 'es-book-16.txt',\n",
       " 'es-book-17.txt',\n",
       " 'es-book-18.txt',\n",
       " 'es-book-19.txt',\n",
       " 'es-book-20.txt',\n",
       " 'es-book-21.txt',\n",
       " 'es-book-22.txt',\n",
       " 'es-book-23.txt',\n",
       " 'es-book-24.txt',\n",
       " 'es-book-25.txt',\n",
       " 'es-book-26.txt',\n",
       " 'es-book-27.txt',\n",
       " 'es-book-28.txt',\n",
       " 'es-book-29.txt',\n",
       " 'fr-book-00.txt',\n",
       " 'fr-book-01.txt',\n",
       " 'fr-book-02.txt',\n",
       " 'fr-book-03.txt',\n",
       " 'fr-book-04.txt',\n",
       " 'fr-book-05.txt',\n",
       " 'fr-book-06.txt',\n",
       " 'fr-book-07.txt',\n",
       " 'fr-book-08.txt',\n",
       " 'fr-book-09.txt',\n",
       " 'fr-book-10.txt',\n",
       " 'fr-book-11.txt',\n",
       " 'fr-book-12.txt',\n",
       " 'fr-book-13.txt',\n",
       " 'fr-book-14.txt',\n",
       " 'fr-book-15.txt',\n",
       " 'fr-book-16.txt',\n",
       " 'fr-book-17.txt',\n",
       " 'fr-book-18.txt',\n",
       " 'fr-book-19.txt',\n",
       " 'fr-book-20.txt',\n",
       " 'fr-book-21.txt',\n",
       " 'fr-book-22.txt',\n",
       " 'fr-book-23.txt',\n",
       " 'fr-book-24.txt',\n",
       " 'fr-book-25.txt',\n",
       " 'fr-book-26.txt',\n",
       " 'fr-book-27.txt',\n",
       " 'fr-book-28.txt',\n",
       " 'fr-book-29.txt',\n",
       " 'it-book-00.txt',\n",
       " 'it-book-01.txt',\n",
       " 'it-book-02.txt',\n",
       " 'it-book-03.txt',\n",
       " 'it-book-04.txt',\n",
       " 'it-book-05.txt',\n",
       " 'it-book-06.txt',\n",
       " 'it-book-07.txt',\n",
       " 'it-book-08.txt',\n",
       " 'it-book-09.txt',\n",
       " 'it-book-10.txt',\n",
       " 'it-book-11.txt',\n",
       " 'it-book-12.txt',\n",
       " 'it-book-13.txt',\n",
       " 'it-book-14.txt',\n",
       " 'it-book-15.txt',\n",
       " 'it-book-16.txt',\n",
       " 'it-book-17.txt',\n",
       " 'it-book-18.txt',\n",
       " 'it-book-19.txt',\n",
       " 'it-book-20.txt',\n",
       " 'it-book-21.txt',\n",
       " 'it-book-22.txt',\n",
       " 'it-book-23.txt',\n",
       " 'it-book-24.txt',\n",
       " 'it-book-25.txt',\n",
       " 'it-book-26.txt',\n",
       " 'it-book-27.txt',\n",
       " 'it-book-28.txt',\n",
       " 'it-book-29.txt',\n",
       " 'nl-book-00.txt',\n",
       " 'nl-book-01.txt',\n",
       " 'nl-book-02.txt',\n",
       " 'nl-book-03.txt',\n",
       " 'nl-book-04.txt',\n",
       " 'nl-book-05.txt',\n",
       " 'nl-book-06.txt',\n",
       " 'nl-book-07.txt',\n",
       " 'nl-book-08.txt',\n",
       " 'nl-book-09.txt',\n",
       " 'nl-book-10.txt',\n",
       " 'nl-book-11.txt',\n",
       " 'nl-book-12.txt',\n",
       " 'nl-book-13.txt',\n",
       " 'nl-book-14.txt',\n",
       " 'nl-book-15.txt',\n",
       " 'nl-book-16.txt',\n",
       " 'nl-book-17.txt',\n",
       " 'nl-book-18.txt',\n",
       " 'nl-book-19.txt',\n",
       " 'nl-book-20.txt',\n",
       " 'nl-book-21.txt',\n",
       " 'nl-book-22.txt',\n",
       " 'nl-book-23.txt',\n",
       " 'nl-book-24.txt',\n",
       " 'nl-book-25.txt',\n",
       " 'nl-book-26.txt',\n",
       " 'nl-book-27.txt',\n",
       " 'nl-book-28.txt',\n",
       " 'nl-book-29.txt',\n",
       " 'se-book-00.txt',\n",
       " 'se-book-01.txt',\n",
       " 'se-book-02.txt',\n",
       " 'se-book-03.txt',\n",
       " 'se-book-04.txt',\n",
       " 'se-book-05.txt',\n",
       " 'se-book-06.txt',\n",
       " 'se-book-07.txt',\n",
       " 'se-book-08.txt',\n",
       " 'se-book-09.txt',\n",
       " 'se-book-10.txt',\n",
       " 'se-book-11.txt',\n",
       " 'se-book-12.txt',\n",
       " 'se-book-13.txt',\n",
       " 'se-book-14.txt',\n",
       " 'se-book-15.txt',\n",
       " 'se-book-16.txt',\n",
       " 'se-book-17.txt',\n",
       " 'se-book-18.txt',\n",
       " 'se-book-19.txt',\n",
       " 'se-book-20.txt',\n",
       " 'se-book-21.txt',\n",
       " 'se-book-22.txt',\n",
       " 'se-book-23.txt',\n",
       " 'se-book-24.txt',\n",
       " 'se-book-25.txt',\n",
       " 'se-book-26.txt',\n",
       " 'se-book-27.txt',\n",
       " 'se-book-28.txt',\n",
       " 'se-book-29.txt']"
      ]
     },
     "execution_count": 34,
     "metadata": {},
     "output_type": "execute_result"
    }
   ],
   "source": [
    "files"
   ]
  },
  {
   "cell_type": "markdown",
   "metadata": {},
   "source": [
    "Now we need the data and the targets"
   ]
  },
  {
   "cell_type": "code",
   "execution_count": 35,
   "metadata": {},
   "outputs": [],
   "source": [
    "data = []\n",
    "targets = []\n",
    "\n",
    "for fname in files:\n",
    "    if fname.endswith(\".txt\"):\n",
    "        paras = text2paragraphs(path + fname, min_size=150)\n",
    "        data.extend(paras)\n",
    "        country = fname[:2]\n",
    "        index = labels.index(country)\n",
    "        targets += [index] * len(paras)"
   ]
  },
  {
   "cell_type": "markdown",
   "metadata": {},
   "source": [
    "Separating our train and test data"
   ]
  },
  {
   "cell_type": "code",
   "execution_count": 36,
   "metadata": {},
   "outputs": [],
   "source": [
    "from sklearn.model_selection import train_test_split\n",
    "\n",
    "res = train_test_split(data, targets, \n",
    "                       train_size=0.8,\n",
    "                       test_size=0.2,\n",
    "                       random_state=42)\n",
    "train_data, test_data, train_targets, test_targets = res "
   ]
  },
  {
   "cell_type": "markdown",
   "metadata": {},
   "source": [
    "Now we train and test our model"
   ]
  },
  {
   "cell_type": "code",
   "execution_count": null,
   "metadata": {},
   "outputs": [
    {
     "name": "stdout",
     "output_type": "stream",
     "text": [
      "accuracy score:  0.9978054935810687\n",
      "F1-score:  0.9979398528285865\n"
     ]
    }
   ],
   "source": [
    "from sklearn.feature_extraction.text import CountVectorizer\n",
    "\n",
    "from sklearn.naive_bayes import MultinomialNB\n",
    "from sklearn import metrics\n",
    "\n",
    "vectorizer = CountVectorizer()\n",
    "\n",
    "vectors = vectorizer.fit_transform(train_data)\n",
    "\n",
    "# creating a classifier\n",
    "classifier = MultinomialNB(alpha=.01)\n",
    "classifier.fit(vectors, train_targets)\n",
    "\n",
    "vectors_test = vectorizer.transform(test_data)\n",
    "\n",
    "predictions = classifier.predict(vectors_test)\n",
    "accuracy_score = metrics.accuracy_score(test_targets, \n",
    "                                        predictions)\n",
    "f1_score = metrics.f1_score(test_targets, \n",
    "                            predictions, \n",
    "                            average='macro')\n",
    "\n",
    "print(\"accuracy score: \", accuracy_score)\n",
    "print(\"F1-score: \", f1_score)"
   ]
  },
  {
   "cell_type": "markdown",
   "metadata": {},
   "source": [
    "Just a few paragraphs to test our model"
   ]
  },
  {
   "cell_type": "code",
   "execution_count": 38,
   "metadata": {},
   "outputs": [],
   "source": [
    "some_texts = [\n",
    "    \"Mein Name ist Anna. Ich komme aus Österreich und lebe seit drei Jahren in Deutschland. Ich bin 15 Jahre alt und habe zwei Geschwister: Meine Schwester heißt Klara und ist 13 Jahre alt, mein Bruder Michael ist 18 Jahre alt. Wir wohnen mit unseren Eltern in einem Haus in der Nähe von München. Meine Mutter ist Köchin, mein Vater arbeitet in einer Bank.\",\n",
    "    \"Maria er 20 år og bor i København. Maria har en hund. Hunden hedder Siko. Maria går tur med Siko, hver morgen. De går en halv time i en park, og et kvarter ved en havn. Efter deres tur, køber Maria en kop kaffe og nyder solen på hendes altan. Siko sover efter turen, fordi han er gammel.\",\n",
    "    \"I live in a house near the mountains. I have two brothers and one sister, and I was born last. My father teaches mathematics, and my mother is a nurse at a big hospital. My brothers are very smart and work hard in school. My sister is a nervous girl, but she is very kind. My grandmother also lives with us. She came from Italy when I was two years old. She has grown old, but she is still very strong. She cooks the best food!\",\n",
    "    \"Pues...En realidad, no es mucho difícil, no es como mis amigos dicen; dicen que español es taaaaaaaan difícil, son (o están?) equivocado. Si sigue en las clases (que no ellos hacen), la aprendizaje no es un problema.\",\n",
    "    \"Mi nueva casa está en una calle ancha que tiene muchos árboles. El piso de arriba de mi casa tiene tres dormitorios y un despacho para trabajar. El piso de abajo tiene una cocina muy grande, un comedor con una mesa y seis sillas, un salón con dos sofás verdes, una televisión y cortinas. Además, tiene una pequeña terraza con piscina donde puedo tomar el sol en verano.\",\n",
    "    \"Je m’appelle Jessica. Je suis une fille, je suis française et j’ai treize ans. Je vais à l’école à Nice, mais j’habite à Cagnes-Sur-Mer. J’ai deux frères. Le premier s’appelle Thomas, il a quatorze ans. Le second s’appelle Yann et il a neuf ans. Mon papa est italien et il est fleuriste. Ma mère est allemande et est avocate. Mes frères et moi parlons français, italien et allemand à la maison. Nous avons une grande maison avec un chien, un poisson et deux chats.\",\n",
    "    \"Quando torno a casa studio e faccio i compiti, ma mi diverto anche giocando al computer e suonando la mia chitarra. Ceno alle 19:00 con la mia famiglia, composta da mia mamma, mio papà e i miei tre fratelli. Alle 22:30 circa vado a letto a leggere alcuni libri prima di dormire.\",\n",
    "    \"Het leren van de Nederlandse taal gaat goed. Alleen de grammatica vind ik lastig. Ik heb al veel nieuwe woorden geleerd. Hoe gaat het bij jou in Duitsland? Hoe gaat het op je nieuwe school?\",\n",
    "    \"Jag heter Simon och jag är fjorton år. Jag bor tillsammans med min mamma, min pappa och mina två systrar. Min mamma heter Annika. Hon arbetar som läkare på ett sjukhus. Min pappa heter Josef. Han arbetar inte längre eftersom han är pensionär. Förut arbetade han som målare.\"\n",
    "]"
   ]
  },
  {
   "cell_type": "markdown",
   "metadata": {},
   "source": [
    "Test the model"
   ]
  },
  {
   "cell_type": "code",
   "execution_count": 39,
   "metadata": {},
   "outputs": [
    {
     "name": "stdout",
     "output_type": "stream",
     "text": [
      "0 de\n",
      "1 dk\n",
      "2 en\n",
      "3 es\n",
      "3 es\n",
      "4 fr\n",
      "5 it\n",
      "6 nl\n",
      "7 se\n"
     ]
    }
   ],
   "source": [
    "vtest = vectorizer.transform(some_texts)\n",
    "predictions = classifier.predict(vtest)\n",
    "for label in predictions:\n",
    "    print(label, labels[label])"
   ]
  },
  {
   "cell_type": "markdown",
   "metadata": {},
   "source": [
    "Save it"
   ]
  },
  {
   "cell_type": "code",
   "execution_count": 40,
   "metadata": {},
   "outputs": [
    {
     "data": {
      "text/plain": [
       "['../models/language_classifier.pkl']"
      ]
     },
     "execution_count": 40,
     "metadata": {},
     "output_type": "execute_result"
    }
   ],
   "source": [
    "import joblib\n",
    "\n",
    "joblib.dump(classifier, \"../models/language_classifier.pkl\")"
   ]
  },
  {
   "cell_type": "markdown",
   "metadata": {},
   "source": [
    "reload the classifier and check that still works"
   ]
  },
  {
   "cell_type": "code",
   "execution_count": 41,
   "metadata": {},
   "outputs": [
    {
     "name": "stdout",
     "output_type": "stream",
     "text": [
      "0 de\n",
      "1 dk\n",
      "2 en\n",
      "3 es\n",
      "3 es\n",
      "4 fr\n",
      "5 it\n",
      "6 nl\n",
      "7 se\n"
     ]
    }
   ],
   "source": [
    "import joblib\n",
    "\n",
    "loaded_classifier = joblib.load(\"../models/language_classifier.pkl\")\n",
    "\n",
    "vtest = vectorizer.transform(some_texts)\n",
    "predictions = loaded_classifier.predict(vtest)\n",
    "for label in predictions:\n",
    "    print(label, labels[label])"
   ]
  },
  {
   "cell_type": "code",
   "execution_count": 42,
   "metadata": {},
   "outputs": [],
   "source": [
    "another_test = \"Hola soy un texto en español que ocupa que se haga una prueba rápida\""
   ]
  },
  {
   "cell_type": "code",
   "execution_count": 43,
   "metadata": {},
   "outputs": [
    {
     "name": "stdout",
     "output_type": "stream",
     "text": [
      "3 es\n",
      "3 es\n"
     ]
    }
   ],
   "source": [
    "vtest_another = vectorizer.transform([another_test])\n",
    "prediction = classifier.predict(vtest_another)\n",
    "print(prediction[0], labels[prediction[0]])\n",
    "print(prediction[0], labels[prediction[0]])"
   ]
  },
  {
   "cell_type": "code",
   "execution_count": 44,
   "metadata": {},
   "outputs": [
    {
     "data": {
      "text/plain": [
       "['../models/vectorizer.pkl']"
      ]
     },
     "execution_count": 44,
     "metadata": {},
     "output_type": "execute_result"
    }
   ],
   "source": [
    "joblib.dump(vectorizer, \"../models/vectorizer.pkl\")"
   ]
  }
 ],
 "metadata": {
  "kernelspec": {
   "display_name": ".venv",
   "language": "python",
   "name": "python3"
  },
  "language_info": {
   "codemirror_mode": {
    "name": "ipython",
    "version": 3
   },
   "file_extension": ".py",
   "mimetype": "text/x-python",
   "name": "python",
   "nbconvert_exporter": "python",
   "pygments_lexer": "ipython3",
   "version": "3.12.3"
  }
 },
 "nbformat": 4,
 "nbformat_minor": 2
}
